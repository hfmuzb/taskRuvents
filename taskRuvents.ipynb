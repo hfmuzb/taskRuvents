{
 "cells": [
  {
   "cell_type": "code",
   "execution_count": 1,
   "id": "24dc18b5",
   "metadata": {},
   "outputs": [],
   "source": [
    "import pandas as pd\n",
    "import math\n",
    "import datetime"
   ]
  },
  {
   "cell_type": "code",
   "execution_count": 2,
   "id": "bb069160",
   "metadata": {},
   "outputs": [],
   "source": [
    "#загружаем содержимое файла 'task_support.xlsx' в pandas.dataframe \n",
    "#sheet_name=1 указывает на то что 1-лист (начиная от нуля) нужно считывать, \n",
    "#index_col=0 пропускаем нулевой столбец\n",
    "\n",
    "df = pd.read_excel(\"task_support.xlsx\", sheet_name=1, index_col=0)"
   ]
  },
  {
   "cell_type": "code",
   "execution_count": 3,
   "id": "c9213ff9",
   "metadata": {},
   "outputs": [
    {
     "data": {
      "text/html": [
       "<div>\n",
       "<style scoped>\n",
       "    .dataframe tbody tr th:only-of-type {\n",
       "        vertical-align: middle;\n",
       "    }\n",
       "\n",
       "    .dataframe tbody tr th {\n",
       "        vertical-align: top;\n",
       "    }\n",
       "\n",
       "    .dataframe thead th {\n",
       "        text-align: right;\n",
       "    }\n",
       "</style>\n",
       "<table border=\"1\" class=\"dataframe\">\n",
       "  <thead>\n",
       "    <tr style=\"text-align: right;\">\n",
       "      <th></th>\n",
       "      <th>num1</th>\n",
       "      <th>num2</th>\n",
       "      <th>num3</th>\n",
       "      <th>date1</th>\n",
       "      <th>date2</th>\n",
       "      <th>date3</th>\n",
       "    </tr>\n",
       "  </thead>\n",
       "  <tbody>\n",
       "    <tr>\n",
       "      <th>NaN</th>\n",
       "      <td>Сколько четных чисел в этом столбце?</td>\n",
       "      <td>Сколько простых чисел в этом столбце?</td>\n",
       "      <td>Сколько чисел, меньших 0.5 в этом столбце?</td>\n",
       "      <td>Столько вторников в этом столбце?</td>\n",
       "      <td>Сколько вторников в этом столбце?</td>\n",
       "      <td>Сколько последних вторников месяца в этом стол...</td>\n",
       "    </tr>\n",
       "    <tr>\n",
       "      <th>1.0</th>\n",
       "      <td>14.0</td>\n",
       "      <td>54.0</td>\n",
       "      <td>0 ,481208997226 7124</td>\n",
       "      <td>Mon Aug  6 07:11:19 2018</td>\n",
       "      <td>2026-07-19 08:15:41.695463</td>\n",
       "      <td>10-04-2011</td>\n",
       "    </tr>\n",
       "    <tr>\n",
       "      <th>2.0</th>\n",
       "      <td>12.0</td>\n",
       "      <td>55.0</td>\n",
       "      <td>0 .9092218987487982</td>\n",
       "      <td>Thu Dec  1 01:32:03 2016</td>\n",
       "      <td>2006-08-06 16:18:39.172100</td>\n",
       "      <td>08-28-2006</td>\n",
       "    </tr>\n",
       "    <tr>\n",
       "      <th>3.0</th>\n",
       "      <td>25.0</td>\n",
       "      <td>2.0</td>\n",
       "      <td>0.  3268611158564687</td>\n",
       "      <td>Wed Aug  2 22:37:44 2028</td>\n",
       "      <td>2020-11-08 10:08:31.158667</td>\n",
       "      <td>11-21-2019</td>\n",
       "    </tr>\n",
       "    <tr>\n",
       "      <th>4.0</th>\n",
       "      <td>53.0</td>\n",
       "      <td>3.0</td>\n",
       "      <td>0. 38081302402434 647</td>\n",
       "      <td>Thu Feb 19 06:32:31 2009</td>\n",
       "      <td>2015-01-13 21:46:36.390139</td>\n",
       "      <td>06-26-2010</td>\n",
       "    </tr>\n",
       "  </tbody>\n",
       "</table>\n",
       "</div>"
      ],
      "text/plain": [
       "                                     num1  \\\n",
       "NaN  Сколько четных чисел в этом столбце?   \n",
       "1.0                                  14.0   \n",
       "2.0                                  12.0   \n",
       "3.0                                  25.0   \n",
       "4.0                                  53.0   \n",
       "\n",
       "                                      num2  \\\n",
       "NaN  Сколько простых чисел в этом столбце?   \n",
       "1.0                                   54.0   \n",
       "2.0                                   55.0   \n",
       "3.0                                    2.0   \n",
       "4.0                                    3.0   \n",
       "\n",
       "                                           num3  \\\n",
       "NaN  Сколько чисел, меньших 0.5 в этом столбце?   \n",
       "1.0                        0 ,481208997226 7124   \n",
       "2.0                         0 .9092218987487982   \n",
       "3.0                        0.  3268611158564687   \n",
       "4.0                       0. 38081302402434 647   \n",
       "\n",
       "                                 date1                              date2  \\\n",
       "NaN  Столько вторников в этом столбце?  Сколько вторников в этом столбце?   \n",
       "1.0           Mon Aug  6 07:11:19 2018         2026-07-19 08:15:41.695463   \n",
       "2.0           Thu Dec  1 01:32:03 2016         2006-08-06 16:18:39.172100   \n",
       "3.0           Wed Aug  2 22:37:44 2028         2020-11-08 10:08:31.158667   \n",
       "4.0           Thu Feb 19 06:32:31 2009         2015-01-13 21:46:36.390139   \n",
       "\n",
       "                                                 date3  \n",
       "NaN  Сколько последних вторников месяца в этом стол...  \n",
       "1.0                                         10-04-2011  \n",
       "2.0                                         08-28-2006  \n",
       "3.0                                         11-21-2019  \n",
       "4.0                                         06-26-2010  "
      ]
     },
     "execution_count": 3,
     "metadata": {},
     "output_type": "execute_result"
    }
   ],
   "source": [
    "#Посмотрим из чего состоит наш dataframe\n",
    "df.head()"
   ]
  },
  {
   "cell_type": "code",
   "execution_count": 4,
   "id": "bb34d88c",
   "metadata": {},
   "outputs": [
    {
     "name": "stdout",
     "output_type": "stream",
     "text": [
      "Количество четных чисел в столбце num1: 507\n"
     ]
    }
   ],
   "source": [
    "#dataframe содержит 6 столбцов, с разными данными, которых надо обработать \n",
    "#Далее считаем количество чётных чисел в столбце num1. Дынный код принимает число \"0\" как чётное число \n",
    "\n",
    "res1 = 0\n",
    "\n",
    "for i in df['num1']:\n",
    "    try:\n",
    "        if i % 2 == 0:\n",
    "            res1 +=1\n",
    "    except:\n",
    "        pass\n",
    "\n",
    "print('Количество четных чисел в столбце num1:', res1)"
   ]
  },
  {
   "cell_type": "code",
   "execution_count": 5,
   "id": "a7174c6d",
   "metadata": {},
   "outputs": [],
   "source": [
    "#Считаем количество простых чисел в столбце num2\n",
    "#Сначала понадобится функция для проверки является ли число простым\n",
    "#части следующей функции взяты из https://www.programiz.com/python-programming/examples/prime-number \n",
    "#и немного изменены \n",
    "\n",
    "# Program to check if a number is prime or not\n",
    "def isPrime(num):\n",
    "    # define a flag variable\n",
    "    flag = False\n",
    "    \n",
    "    # prime numbers are greater than 1\n",
    "    if num > 1:\n",
    "        # check for factors\n",
    "        for i in range(2, int(math.sqrt(num)) + 1):\n",
    "            if (num % i) == 0:\n",
    "                # if factor is found, set flag to True\n",
    "                flag = True\n",
    "                # break out of loop\n",
    "                break\n",
    "    \n",
    "    # check if flag is True\n",
    "    return not flag"
   ]
  },
  {
   "cell_type": "code",
   "execution_count": 6,
   "id": "00b75fef",
   "metadata": {},
   "outputs": [
    {
     "name": "stdout",
     "output_type": "stream",
     "text": [
      "Количество простых чисел в столбце num2: 168\n"
     ]
    }
   ],
   "source": [
    "#теперь считаем количество простых чисел в столбце num2:\n",
    "#здесь я предпологаю что столбец num2 содержит только целые числа в виде ###.0\n",
    "\n",
    "res2 = 0\n",
    "\n",
    "for l in df['num2']:\n",
    "    try:\n",
    "        if isPrime(l):\n",
    "            res2 += 1\n",
    "    except:\n",
    "        pass\n",
    "\n",
    "print(\"Количество простых чисел в столбце num2:\", res2)"
   ]
  },
  {
   "cell_type": "code",
   "execution_count": 7,
   "id": "d00fa112",
   "metadata": {},
   "outputs": [
    {
     "name": "stdout",
     "output_type": "stream",
     "text": [
      "Количество чисел меньших 0.5 в столбце num3: 361\n"
     ]
    }
   ],
   "source": [
    "#Считаем количество чисел меньших 0.5 в столбце num3\n",
    "\n",
    "res3 = 0\n",
    "\n",
    "for k in df['num3']:\n",
    "    #удаление всех лишних пробелов \n",
    "    k = k.replace(\" \",\"\")\n",
    "    \n",
    "    #пробуем каждый элемент преобразовать в float, и проверяем является ли число меньше 0.5\n",
    "    try:\n",
    "        if float(k) < 0.5:\n",
    "            res3 += 1\n",
    "    except:\n",
    "        pass\n",
    "\n",
    "print(\"Количество чисел меньших 0.5 в столбце num3:\", res3)"
   ]
  },
  {
   "cell_type": "code",
   "execution_count": 8,
   "id": "9e2f357c",
   "metadata": {},
   "outputs": [
    {
     "name": "stdout",
     "output_type": "stream",
     "text": [
      "Количество вторников в столбце date1: 156\n"
     ]
    }
   ],
   "source": [
    "#считаем количество вторников в столбце date1\n",
    "\n",
    "res4 = 0\n",
    "\n",
    "for day in df['date1']:\n",
    "    #пишем содержимое строки в массив\n",
    "    day = day.split()\n",
    "    \n",
    "    #проверяем первый элемент массива\n",
    "    if day[0] == 'Tue':\n",
    "        res4 += 1\n",
    "\n",
    "print('Количество вторников в столбце date1:', res4)"
   ]
  },
  {
   "cell_type": "code",
   "execution_count": 9,
   "id": "17180229",
   "metadata": {},
   "outputs": [
    {
     "name": "stdout",
     "output_type": "stream",
     "text": [
      "Количество вторников в столблце date2: 138\n"
     ]
    }
   ],
   "source": [
    "#теперь считаем количество вторников в столбце date2:\n",
    "#для этого сначала берём timestamp, оттуда извлечём число, и методом weekday() извлекаем день недели\n",
    "\n",
    "res5 = 0\n",
    "\n",
    "for day in df['date2']:\n",
    "    try:\n",
    "        day = pd.to_datetime(day.split()[0])\n",
    "        if day.date().weekday() == 1:\n",
    "            res5 += 1\n",
    "    except:    \n",
    "        pass\n",
    "\n",
    "print(\"Количество вторников в столблце date2:\", res5)"
   ]
  },
  {
   "cell_type": "code",
   "execution_count": null,
   "id": "82e7ba85",
   "metadata": {},
   "outputs": [],
   "source": []
  }
 ],
 "metadata": {
  "kernelspec": {
   "display_name": "Python 3 (ipykernel)",
   "language": "python",
   "name": "python3"
  },
  "language_info": {
   "codemirror_mode": {
    "name": "ipython",
    "version": 3
   },
   "file_extension": ".py",
   "mimetype": "text/x-python",
   "name": "python",
   "nbconvert_exporter": "python",
   "pygments_lexer": "ipython3",
   "version": "3.9.10"
  }
 },
 "nbformat": 4,
 "nbformat_minor": 5
}
